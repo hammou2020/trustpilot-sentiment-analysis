{
 "cells": [
  {
   "cell_type": "code",
   "execution_count": 2,
   "metadata": {},
   "outputs": [
    {
     "name": "stdout",
     "output_type": "stream",
     "text": [
      "\n",
      "*** Please tell me who you are.\n",
      "\n",
      "Run\n",
      "\n",
      "  git config --global user.email \"you@example.com\"\n",
      "  git config --global user.name \"Your Name\"\n",
      "\n",
      "to set your account's default identity.\n",
      "Omit --global to set the identity only in this repository.\n",
      "\n",
      "fatal: unable to auto-detect email address (got 'root@ea9c58b20389.(none)')\n",
      "Username for 'https://github.com': ^C\n"
     ]
    }
   ],
   "source": [
    "!git add -A\n",
    "!git commit -m \"Add notebook to split dataset\"\n",
    "!git push origin master"
   ]
  },
  {
   "cell_type": "code",
   "execution_count": 1,
   "metadata": {},
   "outputs": [],
   "source": [
    "%load_ext autoreload\n",
    "%autoreload 2\n",
    "import csv\n",
    "import linecache\n",
    "import string\n",
    "import json\n",
    "import os\n",
    "from io import StringIO\n",
    "import time\n",
    "\n",
    "import torch\n",
    "from torch import nn\n",
    "import torch.nn.functional as F\n",
    "from torch.utils.data import DataLoader, Dataset\n",
    "import torchtext\n",
    "from torchtext.data import get_tokenizer\n",
    "\n",
    "from ignite.engine import Events, create_supervised_trainer, create_supervised_evaluator\n",
    "from ignite.metrics import Accuracy, Loss\n",
    "\n",
    "import numpy as np\n",
    "import pandas as pd\n",
    "from tqdm.notebook import tqdm\n",
    "\n",
    "from models import SentimentClassifier\n",
    "from datasets import *"
   ]
  },
  {
   "cell_type": "code",
   "execution_count": 2,
   "metadata": {},
   "outputs": [],
   "source": [
    "max_tokens = 150\n",
    "all_chars='abcdefghijklmnopqrstuvwxyz'\n",
    "# all_chars='abcdefghijklmnopqrstuvwxyz!\"#$%&\\'()*+,-./:;<=>?@[\\\\]^_`{|}~'\n",
    "batch_size = 256"
   ]
  },
  {
   "cell_type": "code",
   "execution_count": 3,
   "metadata": {},
   "outputs": [],
   "source": [
    "dataset = LazyTextDataset(metadata_path=\"data/trustpilot_metadata.json\",\n",
    "                      max_tokens=max_tokens,\n",
    "                      all_chars=all_chars,\n",
    "                      strip_punctuations=False)\n"
   ]
  },
  {
   "cell_type": "code",
   "execution_count": 7,
   "metadata": {},
   "outputs": [],
   "source": [
    "dataloader = DataLoader(dataset, batch_size=256, shuffle=True, num_workers=4)\n",
    "model = SentimentClassifier(max_tokens=max_tokens,\n",
    "                         conv_num_kernels=[256]* 6,\n",
    "                         conv_kernel_sizes=[5, 5, 3, 3, 3, 3],\n",
    "                         pool_sizes=[None, None, None, None, None, 3])"
   ]
  },
  {
   "cell_type": "code",
   "execution_count": 8,
   "metadata": {},
   "outputs": [
    {
     "data": {
      "text/plain": [
       "torch.Size([256, 3])"
      ]
     },
     "execution_count": 8,
     "metadata": {},
     "output_type": "execute_result"
    }
   ],
   "source": [
    "model(next(iter(dataloader))[0]).shape"
   ]
  },
  {
   "cell_type": "code",
   "execution_count": null,
   "metadata": {},
   "outputs": [
    {
     "data": {
      "application/vnd.jupyter.widget-view+json": {
       "model_id": "58660b5fb12643b5ba07dd55921c8ef9",
       "version_major": 2,
       "version_minor": 0
      },
      "text/plain": [
       "HBox(children=(FloatProgress(value=0.0, description='Epoch 1 - loss: 0.0000', max=27450.0, style=ProgressStyle…"
      ]
     },
     "metadata": {},
     "output_type": "display_data"
    }
   ],
   "source": [
    "device = 'cpu'\n",
    "loss = F.cross_entropy\n",
    "opt = torch.optim.SGD(model.parameters(), lr=0.01, momentum=0.9)\n",
    "\n",
    "trainer = create_supervised_trainer(model, opt, loss)\n",
    "evaluator = create_supervised_evaluator(model,\n",
    "                                        metrics={'accuracy': Accuracy(),\n",
    "                                                 'cross_entropy': Loss(loss)},\n",
    "                                        device=device)\n",
    "\n",
    "log_interval = 1\n",
    "desc = \"Epoch {} - loss: {:.4f}\"\n",
    "pbar = tqdm(\n",
    "    initial=0, leave=False, total=len(dataloader),\n",
    "    desc=desc.format(1, 0)\n",
    ")\n",
    "\n",
    "@trainer.on(Events.ITERATION_COMPLETED)\n",
    "def log_training_loss(engine):\n",
    "    pbar.desc = desc.format(engine.state.epoch, engine.state.output)\n",
    "    pbar.update(log_interval)\n",
    "\n",
    "@trainer.on(Events.EPOCH_COMPLETED)\n",
    "def log_training_results(engine):\n",
    "    pbar.refresh()\n",
    "    evaluator.run(dataloader)\n",
    "    metrics = evaluator.state.metrics\n",
    "    avg_accuracy = metrics['accuracy']\n",
    "    avg_nll = metrics['cross_entropy']\n",
    "    tqdm.write(\n",
    "        \"Training Results - Epoch: {}  Avg accuracy: {:.2f} Avg loss: {:.2f}\"\n",
    "        .format(engine.state.epoch, avg_accuracy, avg_nll)\n",
    "    )\n",
    "\n",
    "trainer.run(dataloader, max_epochs=100)"
   ]
  },
  {
   "cell_type": "code",
   "execution_count": null,
   "metadata": {},
   "outputs": [],
   "source": []
  }
 ],
 "metadata": {
  "kernelspec": {
   "display_name": "Python 3",
   "language": "python",
   "name": "python3"
  },
  "language_info": {
   "codemirror_mode": {
    "name": "ipython",
    "version": 3
   },
   "file_extension": ".py",
   "mimetype": "text/x-python",
   "name": "python",
   "nbconvert_exporter": "python",
   "pygments_lexer": "ipython3",
   "version": "3.6.8"
  }
 },
 "nbformat": 4,
 "nbformat_minor": 4
}
