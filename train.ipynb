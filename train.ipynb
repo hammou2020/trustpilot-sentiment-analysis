{
 "cells": [
  {
   "cell_type": "code",
   "execution_count": 12,
   "metadata": {},
   "outputs": [
    {
     "name": "stdout",
     "output_type": "stream",
     "text": [
      "The autoreload extension is already loaded. To reload it, use:\n",
      "  %reload_ext autoreload\n"
     ]
    }
   ],
   "source": [
    "%load_ext autoreload\n",
    "%autoreload 2\n",
    "import csv\n",
    "import linecache\n",
    "import string\n",
    "import json\n",
    "import os\n",
    "from io import StringIO\n",
    "import time\n",
    "\n",
    "import torch\n",
    "from torch import nn\n",
    "import torch.nn.functional as F\n",
    "from torch.utils.data import DataLoader, Dataset\n",
    "\n",
    "from ignite.engine import Events, create_supervised_trainer, create_supervised_evaluator\n",
    "from ignite.metrics import Accuracy, Loss, Precision, Recall\n",
    "from tensorboardX import SummaryWriter\n",
    "\n",
    "import numpy as np\n",
    "import pandas as pd\n",
    "from tqdm.notebook import tqdm\n",
    "from tabulate import tabulate\n",
    "\n",
    "from models import SentimentClassifier\n",
    "from datasets import TextDataset, get_label"
   ]
  },
  {
   "cell_type": "code",
   "execution_count": 15,
   "metadata": {},
   "outputs": [],
   "source": [
    "id_to_class = {0: 'good', 1: 'average', 2: 'bad'}"
   ]
  },
  {
   "cell_type": "code",
   "execution_count": 2,
   "metadata": {},
   "outputs": [],
   "source": [
    "max_tokens = 150\n",
    "all_chars='abcdefghijklmnopqrstuvwxyz'\n",
    "# all_chars='abcdefghijklmnopqrstuvwxyz!\"#$%&\\'()*+,-./:;<=>?@[\\\\]^_`{|}~'\n",
    "batch_size = 512"
   ]
  },
  {
   "cell_type": "code",
   "execution_count": 3,
   "metadata": {},
   "outputs": [],
   "source": [
    "train_data = TextDataset(data_path=\"data/train.csv\",\n",
    "                      max_tokens=max_tokens,\n",
    "                      all_chars=all_chars,\n",
    "                      strip_punctuations=False)\n",
    "val_data = TextDataset(data_path=\"data/val.csv\",\n",
    "                      max_tokens=max_tokens,\n",
    "                      all_chars=all_chars,\n",
    "                      strip_punctuations=False)"
   ]
  },
  {
   "cell_type": "code",
   "execution_count": null,
   "metadata": {},
   "outputs": [],
   "source": [
    "# val_data.data = val_data.data.drop(list(range(2000, len(val_data.data))))\n",
    "# train_loader = DataLoader(val_data, batch_size=128, shuffle=True, num_workers=8)\n",
    "# val_loader = DataLoader(val_data, batch_size=128, shuffle=True, num_workers=8)\n",
    "\n",
    "train_loader = DataLoader(train_data, batch_size=batch_size, shuffle=True, num_workers=8)\n",
    "val_loader = DataLoader(val_data, batch_size=batch_size, shuffle=True, num_workers=8)"
   ]
  },
  {
   "cell_type": "code",
   "execution_count": 18,
   "metadata": {},
   "outputs": [
    {
     "data": {
      "application/vnd.jupyter.widget-view+json": {
       "model_id": "033c220993f84cf387319348a36938a5",
       "version_major": 2,
       "version_minor": 0
      },
      "text/plain": [
       "HBox(children=(FloatProgress(value=0.0, description='Epoch 1 - loss: 0.0000', max=16.0, style=ProgressStyle(de…"
      ]
     },
     "metadata": {},
     "output_type": "display_data"
    },
    {
     "name": "stdout",
     "output_type": "stream",
     "text": [
      "-----  ------  ------  ----------  ----------\n",
      "       loss    acc     precision   recall\n",
      "train  0.2196  1.0000  [1. 0. 0.]  [1. 0. 0.]\n",
      "val    0.2196  1.0000  [1. 0. 0.]  [1. 0. 0.]\n",
      "-----  ------  ------  ----------  ----------\n"
     ]
    },
    {
     "data": {
      "application/vnd.jupyter.widget-view+json": {
       "model_id": "801fe57c6ca34673aa2f56d3ee794fb1",
       "version_major": 2,
       "version_minor": 0
      },
      "text/plain": [
       "HBox(children=(FloatProgress(value=0.0, description='Epoch 2 - loss: 0.0000', max=16.0, style=ProgressStyle(de…"
      ]
     },
     "metadata": {},
     "output_type": "display_data"
    },
    {
     "name": "stdout",
     "output_type": "stream",
     "text": [
      "-----  ------  ------  ----------  ----------\n",
      "       loss    acc     precision   recall\n",
      "train  0.0049  1.0000  [1. 0. 0.]  [1. 0. 0.]\n",
      "val    0.0049  1.0000  [1. 0. 0.]  [1. 0. 0.]\n",
      "-----  ------  ------  ----------  ----------\n"
     ]
    },
    {
     "data": {
      "application/vnd.jupyter.widget-view+json": {
       "model_id": "fa522ee3b3cf47738818f4656b40009c",
       "version_major": 2,
       "version_minor": 0
      },
      "text/plain": [
       "HBox(children=(FloatProgress(value=0.0, description='Epoch 3 - loss: 0.0000', max=16.0, style=ProgressStyle(de…"
      ]
     },
     "metadata": {},
     "output_type": "display_data"
    },
    {
     "name": "stdout",
     "output_type": "stream",
     "text": [
      "-----  ------  ------  ----------  ----------\n",
      "       loss    acc     precision   recall\n",
      "train  0.0007  1.0000  [1. 0. 0.]  [1. 0. 0.]\n",
      "val    0.0007  1.0000  [1. 0. 0.]  [1. 0. 0.]\n",
      "-----  ------  ------  ----------  ----------\n"
     ]
    },
    {
     "data": {
      "application/vnd.jupyter.widget-view+json": {
       "model_id": "e858aa87e539463780700d6cb8d197ee",
       "version_major": 2,
       "version_minor": 0
      },
      "text/plain": [
       "HBox(children=(FloatProgress(value=0.0, description='Epoch 4 - loss: 0.0000', max=16.0, style=ProgressStyle(de…"
      ]
     },
     "metadata": {},
     "output_type": "display_data"
    },
    {
     "name": "stdout",
     "output_type": "stream",
     "text": [
      "-----  ------  ------  ----------  ----------\n",
      "       loss    acc     precision   recall\n",
      "train  0.0004  1.0000  [1. 0. 0.]  [1. 0. 0.]\n",
      "val    0.0004  1.0000  [1. 0. 0.]  [1. 0. 0.]\n",
      "-----  ------  ------  ----------  ----------\n"
     ]
    },
    {
     "data": {
      "application/vnd.jupyter.widget-view+json": {
       "model_id": "9da8d3f24e9148b9924539737a1eea80",
       "version_major": 2,
       "version_minor": 0
      },
      "text/plain": [
       "HBox(children=(FloatProgress(value=0.0, description='Epoch 5 - loss: 0.0000', max=16.0, style=ProgressStyle(de…"
      ]
     },
     "metadata": {},
     "output_type": "display_data"
    },
    {
     "name": "stdout",
     "output_type": "stream",
     "text": [
      "-----  ------  ------  ----------  ----------\n",
      "       loss    acc     precision   recall\n",
      "train  0.0003  1.0000  [1. 0. 0.]  [1. 0. 0.]\n",
      "val    0.0003  1.0000  [1. 0. 0.]  [1. 0. 0.]\n",
      "-----  ------  ------  ----------  ----------\n"
     ]
    },
    {
     "data": {
      "application/vnd.jupyter.widget-view+json": {
       "model_id": "9db19f7616c94996be898b1a435e7b25",
       "version_major": 2,
       "version_minor": 0
      },
      "text/plain": [
       "HBox(children=(FloatProgress(value=0.0, description='Epoch 6 - loss: 0.0000', max=16.0, style=ProgressStyle(de…"
      ]
     },
     "metadata": {},
     "output_type": "display_data"
    },
    {
     "name": "stdout",
     "output_type": "stream",
     "text": [
      "-----  ------  ------  ----------  ----------\n",
      "       loss    acc     precision   recall\n",
      "train  0.0003  1.0000  [1. 0. 0.]  [1. 0. 0.]\n",
      "val    0.0003  1.0000  [1. 0. 0.]  [1. 0. 0.]\n",
      "-----  ------  ------  ----------  ----------\n"
     ]
    },
    {
     "data": {
      "application/vnd.jupyter.widget-view+json": {
       "model_id": "98f8e8ea84bb4dc3ac7eb6059a1535db",
       "version_major": 2,
       "version_minor": 0
      },
      "text/plain": [
       "HBox(children=(FloatProgress(value=0.0, description='Epoch 7 - loss: 0.0000', max=16.0, style=ProgressStyle(de…"
      ]
     },
     "metadata": {},
     "output_type": "display_data"
    },
    {
     "name": "stdout",
     "output_type": "stream",
     "text": [
      "-----  ------  ------  ----------  ----------\n",
      "       loss    acc     precision   recall\n",
      "train  0.0003  1.0000  [1. 0. 0.]  [1. 0. 0.]\n",
      "val    0.0003  1.0000  [1. 0. 0.]  [1. 0. 0.]\n",
      "-----  ------  ------  ----------  ----------\n"
     ]
    },
    {
     "data": {
      "application/vnd.jupyter.widget-view+json": {
       "model_id": "0322da2ea1974a44934ece2d8dc96dbc",
       "version_major": 2,
       "version_minor": 0
      },
      "text/plain": [
       "HBox(children=(FloatProgress(value=0.0, description='Epoch 8 - loss: 0.0000', max=16.0, style=ProgressStyle(de…"
      ]
     },
     "metadata": {},
     "output_type": "display_data"
    },
    {
     "name": "stdout",
     "output_type": "stream",
     "text": [
      "-----  ------  ------  ----------  ----------\n",
      "       loss    acc     precision   recall\n",
      "train  0.0003  1.0000  [1. 0. 0.]  [1. 0. 0.]\n",
      "val    0.0003  1.0000  [1. 0. 0.]  [1. 0. 0.]\n",
      "-----  ------  ------  ----------  ----------\n"
     ]
    },
    {
     "data": {
      "application/vnd.jupyter.widget-view+json": {
       "model_id": "6cbb877de03041d5b1930f1f259d7a19",
       "version_major": 2,
       "version_minor": 0
      },
      "text/plain": [
       "HBox(children=(FloatProgress(value=0.0, description='Epoch 9 - loss: 0.0000', max=16.0, style=ProgressStyle(de…"
      ]
     },
     "metadata": {},
     "output_type": "display_data"
    },
    {
     "name": "stdout",
     "output_type": "stream",
     "text": [
      "-----  ------  ------  ----------  ----------\n",
      "       loss    acc     precision   recall\n",
      "train  0.0002  1.0000  [1. 0. 0.]  [1. 0. 0.]\n",
      "val    0.0002  1.0000  [1. 0. 0.]  [1. 0. 0.]\n",
      "-----  ------  ------  ----------  ----------\n"
     ]
    },
    {
     "data": {
      "application/vnd.jupyter.widget-view+json": {
       "model_id": "478abd9428e14713ad6b36cf0e3e198b",
       "version_major": 2,
       "version_minor": 0
      },
      "text/plain": [
       "HBox(children=(FloatProgress(value=0.0, description='Epoch 10 - loss: 0.0000', max=16.0, style=ProgressStyle(d…"
      ]
     },
     "metadata": {},
     "output_type": "display_data"
    },
    {
     "name": "stdout",
     "output_type": "stream",
     "text": [
      "-----  ------  ------  ----------  ----------\n",
      "       loss    acc     precision   recall\n",
      "train  0.0002  1.0000  [1. 0. 0.]  [1. 0. 0.]\n",
      "val    0.0002  1.0000  [1. 0. 0.]  [1. 0. 0.]\n",
      "-----  ------  ------  ----------  ----------\n"
     ]
    }
   ],
   "source": [
    "log_dir = \"tensorboard_logs/\"\n",
    "writer = SummaryWriter(logdir=log_dir)\n",
    "\n",
    "# TODO: change this when using CLOUD GPU\n",
    "device = 'cpu'\n",
    "model = SentimentClassifier(max_tokens=max_tokens,\n",
    "                             conv_num_kernels=[256]* 6,\n",
    "                             conv_kernel_sizes=[5, 5, 3, 3, 3, 3],\n",
    "                             pool_sizes=[None, None, None, None, None, 3])\n",
    "\n",
    "loss = F.cross_entropy\n",
    "opt = torch.optim.SGD(model.parameters(), lr=0.01, momentum=0.9)\n",
    "\n",
    "trainer = create_supervised_trainer(model, opt, loss, device=device)\n",
    "evaluator = create_supervised_evaluator(model,\n",
    "                                        metrics={'loss': Loss(loss),\n",
    "                                                 'acc': Accuracy(),\n",
    "                                                 'precision': Precision(),\n",
    "                                                 'recall': Recall()},\n",
    "                                        device=device)\n",
    "\n",
    "\n",
    "desc = \"Epoch {} - loss: {:.4f}\"\n",
    "@trainer.on(Events.EPOCH_STARTED)\n",
    "def create_pbar(engine):\n",
    "    desc = \"Epoch {} - loss: {:.4f}\"\n",
    "    global pbar \n",
    "    pbar = tqdm(\n",
    "        initial=0, leave=False, total=len(val_loader),\n",
    "        desc=desc.format(engine.state.epoch, 0)\n",
    "    )\n",
    "\n",
    "    \n",
    "@trainer.on(Events.ITERATION_COMPLETED)\n",
    "def log_training_loss(engine):\n",
    "    pbar.desc = desc.format(engine.state.epoch, engine.state.output)\n",
    "    pbar.update(1)\n",
    "#     pbar.refresh()\n",
    "\n",
    "@trainer.on(Events.EPOCH_COMPLETED)\n",
    "def log_results(engine):\n",
    "#     pbar.refresh()\n",
    "    res_str = \"\"\n",
    "    table = [[None, \"loss\", \"acc\", \"precision\", \"recall\"]]\n",
    "    for prefix, loader in zip([\"train\", \"val\"], \n",
    "                              [train_loader, val_loader]):\n",
    "        evaluator.run(loader)\n",
    "        metrics = evaluator.state.metrics\n",
    "        \n",
    "        \n",
    "        loss = metrics['loss']\n",
    "        acc = metrics['acc']\n",
    "        prec = metrics['precision']\n",
    "        rec = metrics['recall']\n",
    "#         res_str += f\"{prefix}_loss: {loss:.2f}  {prefix}_acc: {acc:.2f} {prefix}_prec: {prec.numpy()}\"\n",
    "        table.append([prefix, f\"{loss:.4f}\", f\"{acc:.4f}\", prec.numpy(), rec.numpy()])\n",
    "        if prefix == 'train':\n",
    "            res_str += \"\\n\"\n",
    "        \n",
    "        writer.add_scalar(f\"{prefix}/loss\", loss, engine.state.epoch)\n",
    "        writer.add_scalar(f\"{prefix}/acc\", acc, engine.state.epoch)\n",
    "        for metric, name in zip([prec, rec], [\"precision\", \"recall\"]):\n",
    "            for i, class_metric in enumerate(metric):\n",
    "                writer.add_scalar(f\"{prefix}/{name}/{id_to_class[i]}\", class_metric, engine.state.epoch)\n",
    "        \n",
    "    print(tabulate(table))\n",
    "#     print(res_str)\n",
    "#     pbar.set_postfix_str(res_str)\n",
    "trainer.run(train_loader, max_epochs=10)\n",
    "writer.close()"
   ]
  },
  {
   "cell_type": "code",
   "execution_count": null,
   "metadata": {},
   "outputs": [],
   "source": []
  }
 ],
 "metadata": {
  "kernelspec": {
   "display_name": "Python [conda env:ml]",
   "language": "python",
   "name": "conda-env-ml-py"
  },
  "language_info": {
   "codemirror_mode": {
    "name": "ipython",
    "version": 3
   },
   "file_extension": ".py",
   "mimetype": "text/x-python",
   "name": "python",
   "nbconvert_exporter": "python",
   "pygments_lexer": "ipython3",
   "version": "3.6.9"
  }
 },
 "nbformat": 4,
 "nbformat_minor": 4
}
